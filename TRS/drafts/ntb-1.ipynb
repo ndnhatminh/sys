{
 "cells": [
  {
   "cell_type": "code",
   "execution_count": 4,
   "metadata": {},
   "outputs": [],
   "source": [
    "import os, sys\n",
    "from datetime import datetime, time, timedelta, date"
   ]
  },
  {
   "cell_type": "code",
   "execution_count": 5,
   "metadata": {},
   "outputs": [],
   "source": [
    "today = date.today()\n",
    "pre_date = today + timedelta(days=-1)\n",
    "start = datetime.combine(pre_date, time=time(0,0,0))\n",
    "end = datetime.combine(today, time=time(0,0,0))"
   ]
  },
  {
   "cell_type": "code",
   "execution_count": 6,
   "metadata": {},
   "outputs": [
    {
     "name": "stdout",
     "output_type": "stream",
     "text": [
      "2023-03-11\n",
      "2023-03-12 10:48:51.839259\n"
     ]
    }
   ],
   "source": [
    "print(pre_date)\n",
    "print(datetime.now())"
   ]
  },
  {
   "cell_type": "code",
   "execution_count": 2,
   "metadata": {},
   "outputs": [],
   "source": [
    "from pytz import timezone\n",
    "hcm = timezone('Asia/Ho_Chi_Minh')"
   ]
  },
  {
   "cell_type": "code",
   "execution_count": 5,
   "metadata": {},
   "outputs": [
    {
     "name": "stdout",
     "output_type": "stream",
     "text": [
      "2023-03-12 00:00:00+07:00 2023-03-13 00:00:00+07:00\n"
     ]
    }
   ],
   "source": [
    "today = date.today()\n",
    "pre_date = today + timedelta(days=-1)\n",
    "start = datetime.combine(pre_date, time=time(0,0,0))\n",
    "end = datetime.combine(today, time=time(0,0,0))\n",
    "\n",
    "start = hcm.localize(start)\n",
    "end = hcm.localize(end)\n",
    "\n",
    "print(start, end)"
   ]
  }
 ],
 "metadata": {
  "kernelspec": {
   "display_name": "Python 3",
   "language": "python",
   "name": "python3"
  },
  "language_info": {
   "codemirror_mode": {
    "name": "ipython",
    "version": 3
   },
   "file_extension": ".py",
   "mimetype": "text/x-python",
   "name": "python",
   "nbconvert_exporter": "python",
   "pygments_lexer": "ipython3",
   "version": "3.8.10"
  },
  "orig_nbformat": 4,
  "vscode": {
   "interpreter": {
    "hash": "31f2aee4e71d21fbe5cf8b01ff0e069b9275f58929596ceb00d14d90e3e16cd6"
   }
  }
 },
 "nbformat": 4,
 "nbformat_minor": 2
}
